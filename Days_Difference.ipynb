{
 "cells": [
  {
   "cell_type": "code",
   "execution_count": 1,
   "metadata": {},
   "outputs": [
    {
     "name": "stdout",
     "output_type": "stream",
     "text": [
      "The difference between 01/29/2020 and 03/29/2020 is 60 days.\n"
     ]
    }
   ],
   "source": [
    "from datetime import datetime\n",
    "\n",
    "day1 = '01/29/2020'\n",
    "day2 = '03/29/2020'\n",
    "\n",
    "\n",
    "d1 = datetime.strptime(day1, \"%m/%d/%Y\")\n",
    "d2 = datetime.strptime(day2, \"%m/%d/%Y\")\n",
    "\n",
    "diff = abs((d1 - d2).days)\n",
    "\n",
    "\n",
    "print(f'The difference between {day1} and {day2} is {diff} days.')"
   ]
  },
  {
   "cell_type": "code",
   "execution_count": 2,
   "metadata": {},
   "outputs": [
    {
     "name": "stdout",
     "output_type": "stream",
     "text": [
      "The format is changed from 01/29/2020 to 2020-01-29 00:00:00\n",
      "The datetime.strptime function changed the format of 03/29/2020 to 2020-03-29 00:00:00\n"
     ]
    }
   ],
   "source": [
    "print(f'The format is changed from {day1} to {d1}')\n",
    "print(f'The datetime.strptime function changed the format of {day2} to {d2}')\n"
   ]
  },
  {
   "cell_type": "code",
   "execution_count": null,
   "metadata": {},
   "outputs": [],
   "source": []
  }
 ],
 "metadata": {
  "kernelspec": {
   "display_name": "Python 3",
   "language": "python",
   "name": "python3"
  },
  "language_info": {
   "codemirror_mode": {
    "name": "ipython",
    "version": 3
   },
   "file_extension": ".py",
   "mimetype": "text/x-python",
   "name": "python",
   "nbconvert_exporter": "python",
   "pygments_lexer": "ipython3",
   "version": "3.7.4"
  }
 },
 "nbformat": 4,
 "nbformat_minor": 2
}
